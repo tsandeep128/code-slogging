{
 "cells": [
  {
   "cell_type": "code",
   "execution_count": 15,
   "metadata": {},
   "outputs": [
    {
     "name": "stdout",
     "output_type": "stream",
     "text": [
      "Random sequence of numbers from 1 to 25:\n",
      "[8, 9, 25, 18, 22, 16, 3, 6, 7, 4, 12, 15, 21, 23, 20, 10, 14, 5, 19, 2, 13, 11, 17, 24, 1]\n"
     ]
    }
   ],
   "source": [
    "import random\n",
    "\n",
    "MAX_NUMBERS = 25\n",
    "\n",
    "numbers = list(range(1, MAX_NUMBERS + 1))\n",
    "\n",
    "# Shuffle the numbers using Fisher-Yates algorithm\n",
    "for i in range(MAX_NUMBERS - 1, 0, -1):\n",
    "    j = random.randint(0, i)\n",
    "    numbers[i], numbers[j] = numbers[j], numbers[i]\n",
    "\n",
    "# Print the shuffled sequence\n",
    "print(\"Random sequence of numbers from 1 to 25:\")\n",
    "\n",
    "print(numbers)"
   ]
  }
 ],
 "metadata": {
  "kernelspec": {
   "display_name": "Python 3",
   "language": "python",
   "name": "python3"
  },
  "language_info": {
   "codemirror_mode": {
    "name": "ipython",
    "version": 3
   },
   "file_extension": ".py",
   "mimetype": "text/x-python",
   "name": "python",
   "nbconvert_exporter": "python",
   "pygments_lexer": "ipython3",
   "version": "3.9.6"
  }
 },
 "nbformat": 4,
 "nbformat_minor": 2
}
